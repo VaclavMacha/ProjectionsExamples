{
 "cells": [
  {
   "cell_type": "markdown",
   "metadata": {
    "hideCode": false,
    "hidePrompt": false
   },
   "source": [
    "# Several projections onto modified simplices"
   ]
  },
  {
   "cell_type": "markdown",
   "metadata": {
    "hideCode": false,
    "hidePrompt": false
   },
   "source": [
    "???\n",
    "\n",
    "TODO jeste dopsat\n",
    "\n",
    "This text is a complementary material to our paper ???, where we consider three projections onto modified simplices coming from the fields of distributionally robust optimization (DRO) and accuracy at the top (AATP).\n",
    "\n"
   ]
  },
  {
   "cell_type": "markdown",
   "metadata": {
    "hideCode": false,
    "hidePrompt": false
   },
   "source": [
    "##  Preliminaries"
   ]
  },
  {
   "cell_type": "markdown",
   "metadata": {
    "hideCode": false,
    "hidePrompt": false
   },
   "source": [
    "This notebook and the codes can be accessed without any installations. To change the codes, it is necessary to install [Julia](https://julialang.org/downloads/) and the [ProjectionExamples](https://github.com/VaclavMacha/ProjectionsExamples) package. The latter can be done using the following commands\n",
    "\n",
    "```julia\n",
    "julia> using Pkg\n",
    "julia> Pkg.add(PackageSpec(url = \"https://github.com/VaclavMacha/ProjectionsExamples.git\", rev = \"master\"))\n",
    "```\n",
    "After doing so, we load the packages and set the seed and tolerances by running"
   ]
  },
  {
   "cell_type": "code",
   "execution_count": 1,
   "metadata": {
    "hideCode": false,
    "hidePrompt": true
   },
   "outputs": [
    {
     "name": "stderr",
     "output_type": "stream",
     "text": [
      "┌ Info: Recompiling stale cache file /home/vaclav/.julia/compiled/v1.0/ProjectionsExamples/GunRa.ji for ProjectionsExamples [6209a1fa-61a1-11e9-143d-bd6d021d63ce]\n",
      "└ @ Base loading.jl:1190\n"
     ]
    }
   ],
   "source": [
    "using ProjectionsExamples\n",
    "using ProjectionsExamples.Projections, ProjectionsExamples.Distributions, ProjectionsExamples.Random\n",
    "\n",
    "Random.seed!(666);\n",
    "atol = 1e-8;"
   ]
  },
  {
   "cell_type": "markdown",
   "metadata": {
    "hideCode": false,
    "hidePrompt": false
   },
   "source": [
    "## 1. Problem (DRO)"
   ]
  },
  {
   "cell_type": "markdown",
   "metadata": {
    "hideCode": false,
    "hidePrompt": false
   },
   "source": [
    "Problem (DRO) stems from the distributinally robust optimization and reads\n",
    "\n",
    "$$\n",
    "\\begin{aligned}\n",
    "\\underset{\\mathbf{p}}{\\mathrm{minimize}} \\ & \\mathbf{c}^\\top \\mathbf{p} \\\\\n",
    "\\mathrm{subject\\ to}\\ &\\sum_{i=1}^np_i=1,\\\\\n",
    "&0\\le p_i,\\quad\\forall i=1,\\dots,n,\\\\\n",
    "&\\| \\mathbf{p} - \\mathbf{p}^0\\|_{k}  \\le\\varepsilon.\n",
    "\\end{aligned}\n",
    "$$\n",
    "For the detailed problem derivation, please refer to our paper."
   ]
  },
  {
   "cell_type": "markdown",
   "metadata": {
    "hideCode": false,
    "hidePrompt": false
   },
   "source": [
    "### 1.1. Solution properties"
   ]
  },
  {
   "cell_type": "markdown",
   "metadata": {
    "hideCode": false,
    "hidePrompt": false
   },
   "source": [
    "Since the problem does not depend on the order of the components of $\\mathbf{p}$, without loss of generality we assume that $\\mathbf{c}$ is sorted. First, we generate random data and then compute the optimal solution for problem (DRO)."
   ]
  },
  {
   "cell_type": "code",
   "execution_count": 2,
   "metadata": {
    "hideCode": false,
    "hidePrompt": true
   },
   "outputs": [],
   "source": [
    "n  = 20;\n",
    "p0 = ones(n)/n;\n",
    "c  = sort(rand(Normal(0,1), n));\n",
    "ε  = 0.05;\n",
    "\n",
    "p_l1   = Projections.solve_DRO_l1(p0, c, ε);\n",
    "p_l2   = Projections.solve_DRO_l2(p0, c, ε);\n",
    "p_lInf = Projections.solve_DRO_lInf(p0, c, ε);"
   ]
  },
  {
   "cell_type": "markdown",
   "metadata": {
    "hideCode": false,
    "hidePrompt": false
   },
   "source": [
    "To check whether our solution is correct, we compare it with the solution given by the [ECOS](https://github.com/JuliaOpt/ECOS.jl) solver. To keep the presentation simple, we compare results only for the $l_{1}$ norm."
   ]
  },
  {
   "cell_type": "code",
   "execution_count": 3,
   "metadata": {
    "hideCode": true,
    "hidePrompt": true,
    "tags": [
     "hidecode"
    ]
   },
   "outputs": [
    {
     "name": "stdout",
     "output_type": "stream",
     "text": [
      "‖p_l1_solver - p_l1‖  = 2.643e-12\n"
     ]
    }
   ],
   "source": [
    "p_l1_solver = Projections.solve_DRO_exact(p0, c, ε, 1);\n",
    "\n",
    "ProjectionsExamples.solution_comparison_DRO_l1(p_l1, p_l1_solver, c, p0, ε)"
   ]
  },
  {
   "cell_type": "markdown",
   "metadata": {
    "hideCode": false,
    "hidePrompt": false
   },
   "source": [
    "Now we plot the obtained solutions for all three norms. Since $\\mathbf{p}$ is a probability distribution, an increase in one component has to lead to a decrease in another. Since the objective is linear, the solution will have large values of $p_i$ whenever $c_i$ is small and small values of $p_i$ whenever $c_i$ is large. This is shown in the next graph. Recall that $\\mathbf{p}^{0}$ follows the uniform distribution and that $\\mathbf{c}$ is sorted. It is interesting to observe the values of $\\mathbf p$ for different norms. While the $l_1$ and $l_\\infty$ norms lead to significant deviations from $\\mathbf p^0$, the $l_2$ norm leads to a more balanced solution. This suggests to use the $l_2$ distance in the distributionally robust optimization."
   ]
  },
  {
   "cell_type": "code",
   "execution_count": null,
   "metadata": {
    "hideCode": true,
    "hideOutput": false,
    "hidePrompt": true,
    "scrolled": false,
    "tags": [
     "hidecode"
    ]
   },
   "outputs": [],
   "source": [
    "ProjectionsExamples.visual_comparison_DRO(p_l1, p_l2, p_lInf, p0, n)"
   ]
  },
  {
   "cell_type": "markdown",
   "metadata": {
    "hideCode": false,
    "hidePrompt": false
   },
   "source": [
    "### 1.2. Time comparison"
   ]
  },
  {
   "cell_type": "markdown",
   "metadata": {
    "hideCode": false,
    "hidePrompt": false
   },
   "source": [
    "We provide the time complexity of the presented algorithms. Denoting $n$ to be the length of $\\mathbf{p}^{0}$, we consider $n \\in [10^{2},10^{5}]$. For each $n$ we randomly generate data, solve (DRO) ten times and average the execution times. Since the algorithm for the $l_{2}$ norm uses a root finding method, we show three different methods.  The `Bisection` and `Secant` methods are general methods implemented in [Roots](https://github.com/JuliaMath/Roots.jl) package, the `Newton` method is a simple implementation of the [Newton](https://en.wikipedia.org/wiki/Newton%27s_method) method."
   ]
  },
  {
   "cell_type": "code",
   "execution_count": null,
   "metadata": {
    "hideCode": true,
    "hideOutput": false,
    "hidePrompt": true,
    "scrolled": false,
    "tags": [
     "hidecode"
    ]
   },
   "outputs": [],
   "source": [
    "l = 2:0.2:5;\n",
    "n = ceil.(Int64, 10 .^l);\n",
    "\n",
    "ProjectionsExamples.time_comparison_DRO(n, maxreps = 10)"
   ]
  },
  {
   "cell_type": "markdown",
   "metadata": {
    "hideCode": false,
    "hidePrompt": false
   },
   "source": [
    "In the figure above we see (almost) linear dependence of time on the data size $n$. For the $l_{2}$ norm we provide the comparison of our method and the algorithm from [[Philpott 2018]](https://link.springer.com/article/10.1007/s10287-018-0314-0). The computational complexity of `Phillpot` is quadratic and the running time is much higher than ours. "
   ]
  },
  {
   "cell_type": "code",
   "execution_count": null,
   "metadata": {
    "hideCode": true,
    "hidePrompt": true,
    "tags": [
     "hidecode"
    ]
   },
   "outputs": [],
   "source": [
    "l = 2:0.1:3;\n",
    "n = ceil.(Int64, 10 .^l);\n",
    "\n",
    "ProjectionsExamples.time_comparison_philpott(n, maxreps = 10)"
   ]
  },
  {
   "cell_type": "markdown",
   "metadata": {
    "hideCode": false,
    "hidePrompt": false
   },
   "source": [
    "## 2. Problems (AATP1) and (AATP2) "
   ]
  },
  {
   "cell_type": "markdown",
   "metadata": {
    "hideCode": false,
    "hidePrompt": false
   },
   "source": [
    "The next two problems stem from the accuracy at the top which is a binary classification problem maximizing the accuracy for the few top samples. The (AATP1) problem reads\n",
    "\n",
    "$$\n",
    "\\begin{aligned}\n",
    "\\underset{\\mathbf{p},\\mathbf{q}, r}{\\mathrm{minimize}}\\ & \\frac{1}{2} \\|\\mathbf{p} - \\mathbf{p}^0\\|^2 + \\frac{1}{2} \\|\\mathbf{q} - \\mathbf{q}^0\\|^2 + \\frac{1}{2}(r-r^0)^2  \\\\\n",
    "\\mathrm{subject\\ to}\\ &\\sum_{i=1}^n p_i=\\sum_{j=1}^m q_j,\\\\\n",
    "&0\\le p_i\\le C_1,\\quad\\forall i=1,\\dots,n,\\\\\n",
    "&0\\le q_j\\le C_2r,\\quad\\forall j=1,\\dots,m,\n",
    "\\end{aligned}\n",
    "$$\n",
    "while the (AATP2) problem reads\n",
    "\n",
    "$$\n",
    "\\begin{aligned}\n",
    "\\underset{\\mathbf{p},\\mathbf{q}}{\\mathrm{minimize}}\\ & \\frac{1}{2} \\|\\mathbf{p} - \\mathbf{p}^0\\|^2 + \\frac{1}{2} \\|\\mathbf{q} - \\mathbf{q}^0\\|^2 \\\\\n",
    "\\operatorname{subject\\ to}\\ &\\sum_{i=1}^n p_i=\\sum_{j=1}^m q_j,\\\\\n",
    "&0\\le p_i\\le C_1,\\quad\\forall i=1,\\dots,n,\\\\\n",
    "&0\\le q_j\\le \\frac{1}{C_2}\\sum_{i=1}^n p_i,\\quad\\forall j=1,\\dots,m.\n",
    "\\end{aligned}\n",
    "$$\n",
    "For the detailed problem derivation, please refer to our paper again."
   ]
  },
  {
   "cell_type": "markdown",
   "metadata": {
    "hideCode": false,
    "hidePrompt": false
   },
   "source": [
    "### 2.1. Solution properties"
   ]
  },
  {
   "cell_type": "markdown",
   "metadata": {},
   "source": [
    "Similarly to (DRO), first we randomly generate sorted data and then compute the projections by solving (AATP1) and (AATP2)."
   ]
  },
  {
   "cell_type": "code",
   "execution_count": null,
   "metadata": {
    "hideCode": false,
    "hidePrompt": true
   },
   "outputs": [],
   "source": [
    "n    = 20;\n",
    "m    = 30;\n",
    "p0   = sort(rand(Normal(0,1), n));\n",
    "q0   = sort(rand(Normal(0,1), m));\n",
    "r0   = rand(Uniform(0,1));\n",
    "C1   = 0.7;\n",
    "C2_1 = 0.9;\n",
    "C2_2 = 9;\n",
    "\n",
    "p1, q1, r1 = Projections.solve_AATP1(p0, q0, r0, C1, C2_1; atol = atol);\n",
    "p2, q2     = Projections.solve_AATP2(p0, q0, C1, C2_2; atol = atol);"
   ]
  },
  {
   "cell_type": "markdown",
   "metadata": {
    "hideCode": false,
    "hidePrompt": false
   },
   "source": [
    "To check if our solution is correct, we compare it with the solution given by the [ECOS](https://github.com/JuliaOpt/ECOS.jl)  solver."
   ]
  },
  {
   "cell_type": "code",
   "execution_count": null,
   "metadata": {
    "hideCode": true,
    "hidePrompt": true,
    "scrolled": true,
    "tags": [
     "hidecode"
    ]
   },
   "outputs": [],
   "source": [
    "p1_solver, q1_solver, r1_solver = Projections.solve_AATP1_exact(p0, q0, r0, C1, C2_1);\n",
    "p2_solver, q2_solver            = Projections.solve_AATP2_exact(p0, q0, C1, C2_2);\n",
    "\n",
    "ProjectionsExamples.solution_comparison_AATP1(p1, p1_solver, q1, q1_solver, r1, r1_solver, p0, q0, r0)\n",
    "ProjectionsExamples.solution_comparison_AATP2(p2, p2_solver, q2, q2_solver, p0, q0)"
   ]
  },
  {
   "cell_type": "markdown",
   "metadata": {
    "hideCode": false,
    "hidePrompt": false
   },
   "source": [
    "Now we plot the optimal solutions for (AATP1) and (AATP2). Since both problems are similar, the solutions are also similar. This holds true especially for $\\mathbf p$ where the upper bound is the same. The optimal $\\mathbf q$ differs as the upper bounds differ as well."
   ]
  },
  {
   "cell_type": "code",
   "execution_count": null,
   "metadata": {},
   "outputs": [],
   "source": [
    "ProjectionsExamples.visual_comparison_AATP12(p1, q1, p2, q2, p0, q0, n, m)"
   ]
  },
  {
   "cell_type": "markdown",
   "metadata": {
    "hideCode": false,
    "hidePrompt": false
   },
   "source": [
    "### 2.2. Time comparison"
   ]
  },
  {
   "cell_type": "markdown",
   "metadata": {
    "hideCode": false,
    "hidePrompt": false
   },
   "source": [
    "We provide the time complexity of the presented algorithms. We denote the number of points by $N$ and set $n=0.3N$ to be the length of $\\mathbf p^0$ and $m = 0.7N$ to be the length of $\\mathbf q^0$. Then for each $N \\in [10^{2},10^{5}]$ we randomly generate data, solve (AATP1) and (AATP2) ten times and average the execution times. Since the algorithms use a root finding method, we show results for the `Bisection` and `Secant` methods from the [Roots](https://github.com/JuliaMath/Roots.jl) package."
   ]
  },
  {
   "cell_type": "code",
   "execution_count": null,
   "metadata": {
    "hideCode": true,
    "hidePrompt": true,
    "tags": [
     "hidecode"
    ]
   },
   "outputs": [],
   "source": [
    "l = 2:0.1:5\n",
    "N = @. ceil(Int64, 10^l);\n",
    "\n",
    "ProjectionsExamples.time_comparison_AATP12(N; maxreps = 10)"
   ]
  },
  {
   "cell_type": "markdown",
   "metadata": {
    "hideCode": false,
    "hidePrompt": false
   },
   "source": [
    "In the figure above we see the (almost) linear dependence of time on the data size $N$. Moreover, `Secant` is faster than `Bisection`. However, `Bisection` has a guaranteed convergence."
   ]
  }
 ],
 "metadata": {
  "@webio": {
   "lastCommId": null,
   "lastKernelId": null
  },
  "hide_code_all_hidden": false,
  "kernelspec": {
   "display_name": "Julia 1.0.2",
   "language": "julia",
   "name": "julia-1.0"
  },
  "language_info": {
   "file_extension": ".jl",
   "mimetype": "application/julia",
   "name": "julia",
   "version": "1.0.2"
  },
  "latex_envs": {
   "LaTeX_envs_menu_present": true,
   "autoclose": false,
   "autocomplete": true,
   "bibliofile": "biblio.bib",
   "cite_by": "apalike",
   "current_citInitial": 1,
   "eqLabelWithNumbers": true,
   "eqNumInitial": 1,
   "hotkeys": {
    "equation": "Ctrl-E",
    "itemize": "Ctrl-I"
   },
   "labels_anchors": true,
   "latex_user_defs": true,
   "report_style_numbering": true,
   "user_envs_cfg": false
  }
 },
 "nbformat": 4,
 "nbformat_minor": 2
}
